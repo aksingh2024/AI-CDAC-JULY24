{
 "cells": [
  {
   "cell_type": "code",
   "execution_count": 10,
   "id": "4255a0ba-2293-4f4e-ac63-1fc4a0a6f50b",
   "metadata": {},
   "outputs": [
    {
     "name": "stdout",
     "output_type": "stream",
     "text": [
      "hello world\n"
     ]
    }
   ],
   "source": [
    "print ('hello world')"
   ]
  },
  {
   "cell_type": "markdown",
   "id": "ead54210-0e8c-45b7-9bbe-ca4a2ae0fb93",
   "metadata": {},
   "source": [
    "#### Simple Python Program"
   ]
  },
  {
   "cell_type": "code",
   "execution_count": 5,
   "id": "a621a55b-b916-44ee-ba5e-d9e15c5fe122",
   "metadata": {},
   "outputs": [
    {
     "name": "stdin",
     "output_type": "stream",
     "text": [
      "Enter the temperature:  -40\n"
     ]
    },
    {
     "name": "stdout",
     "output_type": "stream",
     "text": [
      "Farenhite Temperature: -40.0\n"
     ]
    }
   ],
   "source": [
    "cent = int(input('Enter the temperature: '))\n",
    "far = cent * 1.8 + 32\n",
    "print('Farenhite Temperature:', far)"
   ]
  },
  {
   "cell_type": "code",
   "execution_count": 6,
   "id": "4a7a0ea1-dbda-4cab-a2e9-8dc0e7d8e2ab",
   "metadata": {},
   "outputs": [
    {
     "data": {
      "text/plain": [
       "int"
      ]
     },
     "execution_count": 6,
     "metadata": {},
     "output_type": "execute_result"
    }
   ],
   "source": [
    "type(cent)"
   ]
  },
  {
   "cell_type": "code",
   "execution_count": 7,
   "id": "116a0f34-08d6-40ab-81d2-268eda22eb01",
   "metadata": {},
   "outputs": [
    {
     "data": {
      "text/plain": [
       "float"
      ]
     },
     "execution_count": 7,
     "metadata": {},
     "output_type": "execute_result"
    }
   ],
   "source": [
    "type(far)"
   ]
  },
  {
   "cell_type": "markdown",
   "id": "56dbc1de-6b4b-4a5f-ad8a-22f188d1894c",
   "metadata": {},
   "source": [
    "#### decision Making Statements"
   ]
  },
  {
   "cell_type": "code",
   "execution_count": 9,
   "id": "c33aca1b-e629-4865-874a-8fef703deb62",
   "metadata": {},
   "outputs": [
    {
     "name": "stdin",
     "output_type": "stream",
     "text": [
      "Enter the number:  -3\n"
     ]
    },
    {
     "name": "stdout",
     "output_type": "stream",
     "text": [
      "Number is negative!\n"
     ]
    }
   ],
   "source": [
    "num = int(input('Enter the number: '))\n",
    "if num > 0:\n",
    "    print('Number is positive!')\n",
    "else:\n",
    "    print('Number is negative!')"
   ]
  },
  {
   "cell_type": "code",
   "execution_count": 12,
   "id": "0da36e10-df15-4d62-8c77-ba11de3b5f5e",
   "metadata": {},
   "outputs": [
    {
     "name": "stdin",
     "output_type": "stream",
     "text": [
      "Enter the number:  4\n"
     ]
    },
    {
     "name": "stdout",
     "output_type": "stream",
     "text": [
      "Number is positive!\n",
      "hello\n"
     ]
    }
   ],
   "source": [
    "num = int(input('Enter the number: '))\n",
    "if num > 0:\n",
    "    print('Number is positive!')\n",
    "    print('hello')\n",
    "elif num == 0:\n",
    "    print('Number is ZERO!')\n",
    "else:\n",
    "    print('Number is negative!')"
   ]
  },
  {
   "cell_type": "markdown",
   "id": "e03a9427-34f7-4ce3-8c43-c07440b78be9",
   "metadata": {},
   "source": [
    "##### Looping"
   ]
  },
  {
   "cell_type": "code",
   "execution_count": 13,
   "id": "a26427e5-0ffb-49ae-8578-d0666bf2a914",
   "metadata": {},
   "outputs": [
    {
     "name": "stdout",
     "output_type": "stream",
     "text": [
      "Anand\n",
      "Anand\n",
      "Anand\n",
      "Anand\n",
      "Anand\n",
      "Anand\n",
      "Anand\n",
      "Anand\n",
      "Anand\n",
      "Anand\n"
     ]
    }
   ],
   "source": [
    "count = 0\n",
    "while count < 10:\n",
    "    print('Anand')\n",
    "    count = count + 1"
   ]
  },
  {
   "cell_type": "code",
   "execution_count": 16,
   "id": "647894fa-49e6-4e65-89d9-beeb3d4a3880",
   "metadata": {},
   "outputs": [
    {
     "name": "stdout",
     "output_type": "stream",
     "text": [
      "67\n",
      "23\n",
      "16\n",
      "33\n",
      "27\n",
      "100\n",
      "200\n",
      "400\n"
     ]
    }
   ],
   "source": [
    "for i in 67,23,16,33,27,100,200,400:\n",
    "    print(i)"
   ]
  },
  {
   "cell_type": "code",
   "execution_count": 17,
   "id": "349a8298-5f85-41b1-8f29-ce96cf89ff5d",
   "metadata": {},
   "outputs": [
    {
     "name": "stdout",
     "output_type": "stream",
     "text": [
      "pppppppppp\n",
      "uuuuuuuuuu\n",
      "nnnnnnnnnn\n",
      "eeeeeeeeee\n"
     ]
    }
   ],
   "source": [
    "for i in 'pune':\n",
    "    print(i * 10)"
   ]
  },
  {
   "cell_type": "code",
   "execution_count": 18,
   "id": "f9e3cf68-b7c9-4868-8e40-42dc6b119142",
   "metadata": {},
   "outputs": [
    {
     "name": "stdout",
     "output_type": "stream",
     "text": [
      "0\n",
      "1\n",
      "4\n",
      "9\n",
      "16\n",
      "25\n",
      "36\n",
      "49\n",
      "64\n",
      "81\n"
     ]
    }
   ],
   "source": [
    "for x in range(10):\n",
    "    print(x * x)"
   ]
  },
  {
   "cell_type": "code",
   "execution_count": 19,
   "id": "7b7934b0-e75d-4579-a0c2-3acfbb336089",
   "metadata": {},
   "outputs": [
    {
     "name": "stdout",
     "output_type": "stream",
     "text": [
      "0\n",
      "1\n",
      "4\n",
      "9\n",
      "16\n",
      "36\n",
      "49\n",
      "64\n",
      "81\n"
     ]
    }
   ],
   "source": [
    "for x in range(10):\n",
    "    if x == 5:\n",
    "        continue\n",
    "    print(x * x)"
   ]
  },
  {
   "cell_type": "markdown",
   "id": "25ee7e85-f259-4be5-b9c3-bd44235e1278",
   "metadata": {},
   "source": [
    "##### Function"
   ]
  },
  {
   "cell_type": "code",
   "execution_count": 20,
   "id": "0f045e97-ac43-400b-b776-5d654086141a",
   "metadata": {},
   "outputs": [],
   "source": [
    "def square(num):\n",
    "    sq = num * num\n",
    "    return sq"
   ]
  },
  {
   "cell_type": "code",
   "execution_count": 21,
   "id": "ab0be9fa-426b-493a-9516-0cd1295eb3c7",
   "metadata": {},
   "outputs": [
    {
     "name": "stdout",
     "output_type": "stream",
     "text": [
      "square is: 25\n"
     ]
    }
   ],
   "source": [
    "print('square is:', square(5))"
   ]
  },
  {
   "cell_type": "code",
   "execution_count": 22,
   "id": "49c4436e-ac11-4e5f-8b80-fbfb1d6525b0",
   "metadata": {},
   "outputs": [],
   "source": [
    "def square(num=10):\n",
    "    sq = num * num\n",
    "    return sq"
   ]
  },
  {
   "cell_type": "code",
   "execution_count": 23,
   "id": "89276c29-a755-4f3d-8689-ad22780fae4e",
   "metadata": {},
   "outputs": [
    {
     "data": {
      "text/plain": [
       "16"
      ]
     },
     "execution_count": 23,
     "metadata": {},
     "output_type": "execute_result"
    }
   ],
   "source": [
    "square(4)"
   ]
  },
  {
   "cell_type": "code",
   "execution_count": 24,
   "id": "37bb71fb-dbb6-4131-8fb4-74e2f6264cc9",
   "metadata": {},
   "outputs": [
    {
     "data": {
      "text/plain": [
       "100"
      ]
     },
     "execution_count": 24,
     "metadata": {},
     "output_type": "execute_result"
    }
   ],
   "source": [
    "square()"
   ]
  },
  {
   "cell_type": "code",
   "execution_count": 25,
   "id": "23bbb5ba-f5fb-4311-80eb-b3bc2a25a305",
   "metadata": {},
   "outputs": [],
   "source": [
    "def calc(num):\n",
    "    sq = num * num\n",
    "    cu = num ** 3\n",
    "    return sq, cu"
   ]
  },
  {
   "cell_type": "code",
   "execution_count": 26,
   "id": "f80e9754-bebd-4ed1-8fbc-f1056c7d4a9e",
   "metadata": {},
   "outputs": [
    {
     "data": {
      "text/plain": [
       "(9, 27)"
      ]
     },
     "execution_count": 26,
     "metadata": {},
     "output_type": "execute_result"
    }
   ],
   "source": [
    "calc(3)"
   ]
  },
  {
   "cell_type": "markdown",
   "id": "df0652d0-8725-4d51-96a0-be526cae1735",
   "metadata": {},
   "source": [
    "###### Data structures"
   ]
  },
  {
   "cell_type": "code",
   "execution_count": 27,
   "id": "eef00ab6-94a0-4972-a3ac-2198158f13ba",
   "metadata": {},
   "outputs": [],
   "source": [
    "num1 = [2,3,4,5,6]"
   ]
  },
  {
   "cell_type": "code",
   "execution_count": 28,
   "id": "ae8560ed-ef4d-4bf3-a4c0-a95615fda725",
   "metadata": {},
   "outputs": [
    {
     "data": {
      "text/plain": [
       "list"
      ]
     },
     "execution_count": 28,
     "metadata": {},
     "output_type": "execute_result"
    }
   ],
   "source": [
    "type(num1)"
   ]
  },
  {
   "cell_type": "code",
   "execution_count": 29,
   "id": "343f7459-d73f-48cf-b1ec-cb7b738c2846",
   "metadata": {},
   "outputs": [
    {
     "data": {
      "text/plain": [
       "6"
      ]
     },
     "execution_count": 29,
     "metadata": {},
     "output_type": "execute_result"
    }
   ],
   "source": [
    "num1[4]"
   ]
  },
  {
   "cell_type": "code",
   "execution_count": 34,
   "id": "39a2cede-d3bc-4ccf-9008-96b4046b7e58",
   "metadata": {},
   "outputs": [],
   "source": [
    "num2 = (2,3,45,51,6)"
   ]
  },
  {
   "cell_type": "code",
   "execution_count": 35,
   "id": "bc023736-2d64-47dd-83c8-353e6e010326",
   "metadata": {},
   "outputs": [
    {
     "data": {
      "text/plain": [
       "tuple"
      ]
     },
     "execution_count": 35,
     "metadata": {},
     "output_type": "execute_result"
    }
   ],
   "source": [
    "type(num2)"
   ]
  },
  {
   "cell_type": "code",
   "execution_count": 37,
   "id": "c2307da5-918f-4c17-968e-0ef4ad4718f1",
   "metadata": {},
   "outputs": [
    {
     "ename": "TypeError",
     "evalue": "'tuple' object does not support item assignment",
     "output_type": "error",
     "traceback": [
      "\u001b[1;31m---------------------------------------------------------------------------\u001b[0m",
      "\u001b[1;31mTypeError\u001b[0m                                 Traceback (most recent call last)",
      "Cell \u001b[1;32mIn[37], line 1\u001b[0m\n\u001b[1;32m----> 1\u001b[0m num2[\u001b[38;5;241m3\u001b[39m] \u001b[38;5;241m=\u001b[39m \u001b[38;5;241m64\u001b[39m\n",
      "\u001b[1;31mTypeError\u001b[0m: 'tuple' object does not support item assignment"
     ]
    }
   ],
   "source": [
    "num2[3] = 64"
   ]
  },
  {
   "cell_type": "code",
   "execution_count": 40,
   "id": "34239a77-ad93-46e5-a597-9c717c2effa7",
   "metadata": {},
   "outputs": [],
   "source": [
    "num3 = {2,3,45,51,6}"
   ]
  },
  {
   "cell_type": "code",
   "execution_count": 41,
   "id": "d49ab2ce-3a4c-4158-8dbb-755a75ebe775",
   "metadata": {},
   "outputs": [
    {
     "data": {
      "text/plain": [
       "set"
      ]
     },
     "execution_count": 41,
     "metadata": {},
     "output_type": "execute_result"
    }
   ],
   "source": [
    "type(num3)"
   ]
  },
  {
   "cell_type": "code",
   "execution_count": 42,
   "id": "7ddb9839-c10b-4385-b312-639f05130ef7",
   "metadata": {},
   "outputs": [],
   "source": [
    "num3 = {2,51,45,51,6}"
   ]
  },
  {
   "cell_type": "code",
   "execution_count": 43,
   "id": "e3e49877-2517-4397-8ae4-f0b1cdb0bb16",
   "metadata": {},
   "outputs": [
    {
     "data": {
      "text/plain": [
       "{2, 6, 45, 51}"
      ]
     },
     "execution_count": 43,
     "metadata": {},
     "output_type": "execute_result"
    }
   ],
   "source": [
    "num3"
   ]
  },
  {
   "cell_type": "code",
   "execution_count": 45,
   "id": "85b000f7-19bc-4105-b27f-8e5611c7f62c",
   "metadata": {},
   "outputs": [],
   "source": [
    "num4 = {2:45, 4:51, 10:45, 6:57}"
   ]
  },
  {
   "cell_type": "code",
   "execution_count": 46,
   "id": "d52825fd-7d64-4013-91cd-7d0f5802363c",
   "metadata": {},
   "outputs": [
    {
     "data": {
      "text/plain": [
       "dict"
      ]
     },
     "execution_count": 46,
     "metadata": {},
     "output_type": "execute_result"
    }
   ],
   "source": [
    "type(num4)"
   ]
  },
  {
   "cell_type": "code",
   "execution_count": 47,
   "id": "a62c7e1d-9195-442a-8a34-5bfdec1b2c97",
   "metadata": {},
   "outputs": [],
   "source": [
    "num5 = {2:45, 4:51, 10:45, 6:57, 'x':90}"
   ]
  },
  {
   "cell_type": "code",
   "execution_count": 48,
   "id": "9daa802d-63ad-43ca-b51b-b69ec63ff6bd",
   "metadata": {},
   "outputs": [
    {
     "data": {
      "text/plain": [
       "dict"
      ]
     },
     "execution_count": 48,
     "metadata": {},
     "output_type": "execute_result"
    }
   ],
   "source": [
    "type(num5)"
   ]
  },
  {
   "cell_type": "code",
   "execution_count": 49,
   "id": "43cb20c9-b858-4aa7-8e8f-88c5dd24286f",
   "metadata": {},
   "outputs": [
    {
     "data": {
      "text/plain": [
       "45"
      ]
     },
     "execution_count": 49,
     "metadata": {},
     "output_type": "execute_result"
    }
   ],
   "source": [
    "num4[10]"
   ]
  },
  {
   "cell_type": "code",
   "execution_count": 51,
   "id": "981a3300-e029-49f4-aaf7-7ee819af8752",
   "metadata": {},
   "outputs": [
    {
     "data": {
      "text/plain": [
       "90"
      ]
     },
     "execution_count": 51,
     "metadata": {},
     "output_type": "execute_result"
    }
   ],
   "source": [
    "num5['x']"
   ]
  },
  {
   "cell_type": "markdown",
   "id": "9337e8dc-9075-4e99-b092-dde6fdec44a4",
   "metadata": {},
   "source": [
    "##### class"
   ]
  },
  {
   "cell_type": "code",
   "execution_count": 52,
   "id": "d842e0a4-27e6-4f45-879e-91a200b095c5",
   "metadata": {},
   "outputs": [],
   "source": [
    "num3.add(18)"
   ]
  },
  {
   "cell_type": "code",
   "execution_count": 53,
   "id": "6bd87a35-fd70-4dd7-89e0-97c36341e233",
   "metadata": {},
   "outputs": [
    {
     "data": {
      "text/plain": [
       "{2, 6, 18, 45, 51}"
      ]
     },
     "execution_count": 53,
     "metadata": {},
     "output_type": "execute_result"
    }
   ],
   "source": [
    "num3"
   ]
  },
  {
   "cell_type": "code",
   "execution_count": 55,
   "id": "7cea3e27-1e6f-4d27-91f3-5b44614f41ce",
   "metadata": {},
   "outputs": [],
   "source": [
    "num8 = [1,2,6,3,99]"
   ]
  },
  {
   "cell_type": "code",
   "execution_count": 57,
   "id": "59fba49b-58b0-4614-b076-1da99f3ba583",
   "metadata": {},
   "outputs": [],
   "source": [
    "num8.reverse()"
   ]
  },
  {
   "cell_type": "code",
   "execution_count": 58,
   "id": "702bfde4-02b1-45aa-bae2-60494f0dc8a9",
   "metadata": {},
   "outputs": [
    {
     "data": {
      "text/plain": [
       "[99, 3, 6, 2, 1]"
      ]
     },
     "execution_count": 58,
     "metadata": {},
     "output_type": "execute_result"
    }
   ],
   "source": [
    "num8"
   ]
  },
  {
   "cell_type": "code",
   "execution_count": 59,
   "id": "200c824f-4b2a-4d40-abd1-76e4bcf71f70",
   "metadata": {},
   "outputs": [],
   "source": [
    "num9 = (1,2,6,3,99)"
   ]
  },
  {
   "cell_type": "code",
   "execution_count": 60,
   "id": "a40188f1-7556-4356-8326-e008035ea9be",
   "metadata": {},
   "outputs": [
    {
     "data": {
      "text/plain": [
       "1"
      ]
     },
     "execution_count": 60,
     "metadata": {},
     "output_type": "execute_result"
    }
   ],
   "source": [
    "num9.count(99)"
   ]
  },
  {
   "cell_type": "code",
   "execution_count": 61,
   "id": "1933f567-1570-422d-807a-de855e9883df",
   "metadata": {},
   "outputs": [
    {
     "data": {
      "text/plain": [
       "dict_keys([2, 4, 10, 6])"
      ]
     },
     "execution_count": 61,
     "metadata": {},
     "output_type": "execute_result"
    }
   ],
   "source": [
    "num4.keys()"
   ]
  },
  {
   "cell_type": "code",
   "execution_count": 62,
   "id": "a08f2540-219b-483d-b72f-216e92ec29e7",
   "metadata": {},
   "outputs": [],
   "source": [
    "name = 'anand'"
   ]
  },
  {
   "cell_type": "code",
   "execution_count": 63,
   "id": "ceb64029-f99f-483d-98b5-29d4c2a9fc0b",
   "metadata": {},
   "outputs": [
    {
     "data": {
      "text/plain": [
       "'ANAND'"
      ]
     },
     "execution_count": 63,
     "metadata": {},
     "output_type": "execute_result"
    }
   ],
   "source": [
    "name.upper()"
   ]
  },
  {
   "cell_type": "code",
   "execution_count": 65,
   "id": "fcbe2c96-68a8-4aa3-b7a3-3b444ca44a87",
   "metadata": {},
   "outputs": [],
   "source": [
    "class Person:\n",
    "    def __init__(self, n, a):\n",
    "        self.name = n\n",
    "        self.age = a\n",
    "    def show(self):\n",
    "            print('Values are:')\n",
    "            print(self.name, self.age)"
   ]
  },
  {
   "cell_type": "code",
   "execution_count": 66,
   "id": "36c2d542-9866-40c8-8f99-a99147a63e0f",
   "metadata": {},
   "outputs": [],
   "source": [
    "p1 = Person('ajay',34)"
   ]
  },
  {
   "cell_type": "code",
   "execution_count": 67,
   "id": "c06b6ac1-2e9f-4dcd-b6ae-6ef0297648d1",
   "metadata": {},
   "outputs": [
    {
     "data": {
      "text/plain": [
       "'ajay'"
      ]
     },
     "execution_count": 67,
     "metadata": {},
     "output_type": "execute_result"
    }
   ],
   "source": [
    "p1.name"
   ]
  },
  {
   "cell_type": "code",
   "execution_count": 68,
   "id": "27f4c1d6-794c-43bb-a4a0-1a3b98d50856",
   "metadata": {},
   "outputs": [
    {
     "data": {
      "text/plain": [
       "34"
      ]
     },
     "execution_count": 68,
     "metadata": {},
     "output_type": "execute_result"
    }
   ],
   "source": [
    "p1.age"
   ]
  },
  {
   "cell_type": "code",
   "execution_count": 69,
   "id": "dfdca6b2-a265-43c3-996f-41702e743de8",
   "metadata": {},
   "outputs": [
    {
     "name": "stdout",
     "output_type": "stream",
     "text": [
      "Values are:\n",
      "ajay 34\n"
     ]
    }
   ],
   "source": [
    "p1.show()"
   ]
  },
  {
   "cell_type": "code",
   "execution_count": 70,
   "id": "46cd4fb9-460e-43e7-87c7-7804e6040e27",
   "metadata": {},
   "outputs": [
    {
     "name": "stdout",
     "output_type": "stream",
     "text": [
      "Values are:\n",
      "vijay 28\n"
     ]
    }
   ],
   "source": [
    "p2 = Person('vijay',28)\n",
    "p2.show()"
   ]
  },
  {
   "cell_type": "code",
   "execution_count": 71,
   "id": "8514f8cb-0f92-422c-9fd2-f71ea72b268c",
   "metadata": {},
   "outputs": [
    {
     "name": "stdout",
     "output_type": "stream",
     "text": [
      "Values are:\n",
      "riya 25\n"
     ]
    }
   ],
   "source": [
    "p3 = Person('riya',25)\n",
    "p3.show()"
   ]
  },
  {
   "cell_type": "markdown",
   "id": "dc74b698-12b4-4446-aa80-9eac65be77c3",
   "metadata": {},
   "source": [
    "###### using the libraries"
   ]
  },
  {
   "cell_type": "code",
   "execution_count": 72,
   "id": "de8c571b-c48e-4665-8da3-5e1afe93e452",
   "metadata": {},
   "outputs": [],
   "source": [
    "import math"
   ]
  },
  {
   "cell_type": "code",
   "execution_count": 73,
   "id": "bff5566b-8571-4973-a2d5-1abd7098d47b",
   "metadata": {},
   "outputs": [
    {
     "name": "stdout",
     "output_type": "stream",
     "text": [
      "Help on built-in module math:\n",
      "\n",
      "NAME\n",
      "    math\n",
      "\n",
      "DESCRIPTION\n",
      "    This module provides access to the mathematical functions\n",
      "    defined by the C standard.\n",
      "\n",
      "FUNCTIONS\n",
      "    acos(x, /)\n",
      "        Return the arc cosine (measured in radians) of x.\n",
      "        \n",
      "        The result is between 0 and pi.\n",
      "    \n",
      "    acosh(x, /)\n",
      "        Return the inverse hyperbolic cosine of x.\n",
      "    \n",
      "    asin(x, /)\n",
      "        Return the arc sine (measured in radians) of x.\n",
      "        \n",
      "        The result is between -pi/2 and pi/2.\n",
      "    \n",
      "    asinh(x, /)\n",
      "        Return the inverse hyperbolic sine of x.\n",
      "    \n",
      "    atan(x, /)\n",
      "        Return the arc tangent (measured in radians) of x.\n",
      "        \n",
      "        The result is between -pi/2 and pi/2.\n",
      "    \n",
      "    atan2(y, x, /)\n",
      "        Return the arc tangent (measured in radians) of y/x.\n",
      "        \n",
      "        Unlike atan(y/x), the signs of both x and y are considered.\n",
      "    \n",
      "    atanh(x, /)\n",
      "        Return the inverse hyperbolic tangent of x.\n",
      "    \n",
      "    cbrt(x, /)\n",
      "        Return the cube root of x.\n",
      "    \n",
      "    ceil(x, /)\n",
      "        Return the ceiling of x as an Integral.\n",
      "        \n",
      "        This is the smallest integer >= x.\n",
      "    \n",
      "    comb(n, k, /)\n",
      "        Number of ways to choose k items from n items without repetition and without order.\n",
      "        \n",
      "        Evaluates to n! / (k! * (n - k)!) when k <= n and evaluates\n",
      "        to zero when k > n.\n",
      "        \n",
      "        Also called the binomial coefficient because it is equivalent\n",
      "        to the coefficient of k-th term in polynomial expansion of the\n",
      "        expression (1 + x)**n.\n",
      "        \n",
      "        Raises TypeError if either of the arguments are not integers.\n",
      "        Raises ValueError if either of the arguments are negative.\n",
      "    \n",
      "    copysign(x, y, /)\n",
      "        Return a float with the magnitude (absolute value) of x but the sign of y.\n",
      "        \n",
      "        On platforms that support signed zeros, copysign(1.0, -0.0)\n",
      "        returns -1.0.\n",
      "    \n",
      "    cos(x, /)\n",
      "        Return the cosine of x (measured in radians).\n",
      "    \n",
      "    cosh(x, /)\n",
      "        Return the hyperbolic cosine of x.\n",
      "    \n",
      "    degrees(x, /)\n",
      "        Convert angle x from radians to degrees.\n",
      "    \n",
      "    dist(p, q, /)\n",
      "        Return the Euclidean distance between two points p and q.\n",
      "        \n",
      "        The points should be specified as sequences (or iterables) of\n",
      "        coordinates.  Both inputs must have the same dimension.\n",
      "        \n",
      "        Roughly equivalent to:\n",
      "            sqrt(sum((px - qx) ** 2.0 for px, qx in zip(p, q)))\n",
      "    \n",
      "    erf(x, /)\n",
      "        Error function at x.\n",
      "    \n",
      "    erfc(x, /)\n",
      "        Complementary error function at x.\n",
      "    \n",
      "    exp(x, /)\n",
      "        Return e raised to the power of x.\n",
      "    \n",
      "    exp2(x, /)\n",
      "        Return 2 raised to the power of x.\n",
      "    \n",
      "    expm1(x, /)\n",
      "        Return exp(x)-1.\n",
      "        \n",
      "        This function avoids the loss of precision involved in the direct evaluation of exp(x)-1 for small x.\n",
      "    \n",
      "    fabs(x, /)\n",
      "        Return the absolute value of the float x.\n",
      "    \n",
      "    factorial(n, /)\n",
      "        Find n!.\n",
      "        \n",
      "        Raise a ValueError if x is negative or non-integral.\n",
      "    \n",
      "    floor(x, /)\n",
      "        Return the floor of x as an Integral.\n",
      "        \n",
      "        This is the largest integer <= x.\n",
      "    \n",
      "    fmod(x, y, /)\n",
      "        Return fmod(x, y), according to platform C.\n",
      "        \n",
      "        x % y may differ.\n",
      "    \n",
      "    frexp(x, /)\n",
      "        Return the mantissa and exponent of x, as pair (m, e).\n",
      "        \n",
      "        m is a float and e is an int, such that x = m * 2.**e.\n",
      "        If x is 0, m and e are both 0.  Else 0.5 <= abs(m) < 1.0.\n",
      "    \n",
      "    fsum(seq, /)\n",
      "        Return an accurate floating point sum of values in the iterable seq.\n",
      "        \n",
      "        Assumes IEEE-754 floating point arithmetic.\n",
      "    \n",
      "    gamma(x, /)\n",
      "        Gamma function at x.\n",
      "    \n",
      "    gcd(*integers)\n",
      "        Greatest Common Divisor.\n",
      "    \n",
      "    hypot(...)\n",
      "        hypot(*coordinates) -> value\n",
      "        \n",
      "        Multidimensional Euclidean distance from the origin to a point.\n",
      "        \n",
      "        Roughly equivalent to:\n",
      "            sqrt(sum(x**2 for x in coordinates))\n",
      "        \n",
      "        For a two dimensional point (x, y), gives the hypotenuse\n",
      "        using the Pythagorean theorem:  sqrt(x*x + y*y).\n",
      "        \n",
      "        For example, the hypotenuse of a 3/4/5 right triangle is:\n",
      "        \n",
      "            >>> hypot(3.0, 4.0)\n",
      "            5.0\n",
      "    \n",
      "    isclose(a, b, *, rel_tol=1e-09, abs_tol=0.0)\n",
      "        Determine whether two floating point numbers are close in value.\n",
      "        \n",
      "          rel_tol\n",
      "            maximum difference for being considered \"close\", relative to the\n",
      "            magnitude of the input values\n",
      "          abs_tol\n",
      "            maximum difference for being considered \"close\", regardless of the\n",
      "            magnitude of the input values\n",
      "        \n",
      "        Return True if a is close in value to b, and False otherwise.\n",
      "        \n",
      "        For the values to be considered close, the difference between them\n",
      "        must be smaller than at least one of the tolerances.\n",
      "        \n",
      "        -inf, inf and NaN behave similarly to the IEEE 754 Standard.  That\n",
      "        is, NaN is not close to anything, even itself.  inf and -inf are\n",
      "        only close to themselves.\n",
      "    \n",
      "    isfinite(x, /)\n",
      "        Return True if x is neither an infinity nor a NaN, and False otherwise.\n",
      "    \n",
      "    isinf(x, /)\n",
      "        Return True if x is a positive or negative infinity, and False otherwise.\n",
      "    \n",
      "    isnan(x, /)\n",
      "        Return True if x is a NaN (not a number), and False otherwise.\n",
      "    \n",
      "    isqrt(n, /)\n",
      "        Return the integer part of the square root of the input.\n",
      "    \n",
      "    lcm(*integers)\n",
      "        Least Common Multiple.\n",
      "    \n",
      "    ldexp(x, i, /)\n",
      "        Return x * (2**i).\n",
      "        \n",
      "        This is essentially the inverse of frexp().\n",
      "    \n",
      "    lgamma(x, /)\n",
      "        Natural logarithm of absolute value of Gamma function at x.\n",
      "    \n",
      "    log(...)\n",
      "        log(x, [base=math.e])\n",
      "        Return the logarithm of x to the given base.\n",
      "        \n",
      "        If the base not specified, returns the natural logarithm (base e) of x.\n",
      "    \n",
      "    log10(x, /)\n",
      "        Return the base 10 logarithm of x.\n",
      "    \n",
      "    log1p(x, /)\n",
      "        Return the natural logarithm of 1+x (base e).\n",
      "        \n",
      "        The result is computed in a way which is accurate for x near zero.\n",
      "    \n",
      "    log2(x, /)\n",
      "        Return the base 2 logarithm of x.\n",
      "    \n",
      "    modf(x, /)\n",
      "        Return the fractional and integer parts of x.\n",
      "        \n",
      "        Both results carry the sign of x and are floats.\n",
      "    \n",
      "    nextafter(x, y, /)\n",
      "        Return the next floating-point value after x towards y.\n",
      "    \n",
      "    perm(n, k=None, /)\n",
      "        Number of ways to choose k items from n items without repetition and with order.\n",
      "        \n",
      "        Evaluates to n! / (n - k)! when k <= n and evaluates\n",
      "        to zero when k > n.\n",
      "        \n",
      "        If k is not specified or is None, then k defaults to n\n",
      "        and the function returns n!.\n",
      "        \n",
      "        Raises TypeError if either of the arguments are not integers.\n",
      "        Raises ValueError if either of the arguments are negative.\n",
      "    \n",
      "    pow(x, y, /)\n",
      "        Return x**y (x to the power of y).\n",
      "    \n",
      "    prod(iterable, /, *, start=1)\n",
      "        Calculate the product of all the elements in the input iterable.\n",
      "        \n",
      "        The default start value for the product is 1.\n",
      "        \n",
      "        When the iterable is empty, return the start value.  This function is\n",
      "        intended specifically for use with numeric values and may reject\n",
      "        non-numeric types.\n",
      "    \n",
      "    radians(x, /)\n",
      "        Convert angle x from degrees to radians.\n",
      "    \n",
      "    remainder(x, y, /)\n",
      "        Difference between x and the closest integer multiple of y.\n",
      "        \n",
      "        Return x - n*y where n*y is the closest integer multiple of y.\n",
      "        In the case where x is exactly halfway between two multiples of\n",
      "        y, the nearest even value of n is used. The result is always exact.\n",
      "    \n",
      "    sin(x, /)\n",
      "        Return the sine of x (measured in radians).\n",
      "    \n",
      "    sinh(x, /)\n",
      "        Return the hyperbolic sine of x.\n",
      "    \n",
      "    sqrt(x, /)\n",
      "        Return the square root of x.\n",
      "    \n",
      "    tan(x, /)\n",
      "        Return the tangent of x (measured in radians).\n",
      "    \n",
      "    tanh(x, /)\n",
      "        Return the hyperbolic tangent of x.\n",
      "    \n",
      "    trunc(x, /)\n",
      "        Truncates the Real x to the nearest Integral toward 0.\n",
      "        \n",
      "        Uses the __trunc__ magic method.\n",
      "    \n",
      "    ulp(x, /)\n",
      "        Return the value of the least significant bit of the float x.\n",
      "\n",
      "DATA\n",
      "    e = 2.718281828459045\n",
      "    inf = inf\n",
      "    nan = nan\n",
      "    pi = 3.141592653589793\n",
      "    tau = 6.283185307179586\n",
      "\n",
      "FILE\n",
      "    (built-in)\n",
      "\n",
      "\n"
     ]
    }
   ],
   "source": [
    "help(math)"
   ]
  },
  {
   "cell_type": "code",
   "execution_count": 74,
   "id": "1421034b-ab94-4a43-9223-1810615ea238",
   "metadata": {},
   "outputs": [
    {
     "data": {
      "text/plain": [
       "4.795831523312719"
      ]
     },
     "execution_count": 74,
     "metadata": {},
     "output_type": "execute_result"
    }
   ],
   "source": [
    "math.sqrt(23)"
   ]
  },
  {
   "cell_type": "code",
   "execution_count": 75,
   "id": "9f89eabd-b8e8-40c5-941c-a9ffb68bb483",
   "metadata": {},
   "outputs": [
    {
     "data": {
      "text/plain": [
       "3.295836866004329"
      ]
     },
     "execution_count": 75,
     "metadata": {},
     "output_type": "execute_result"
    }
   ],
   "source": [
    "math.log(27)"
   ]
  },
  {
   "cell_type": "code",
   "execution_count": 76,
   "id": "11babe14-73d6-4635-ac92-d180476a02f5",
   "metadata": {},
   "outputs": [
    {
     "data": {
      "text/plain": [
       "3.4934271057485095e+19"
      ]
     },
     "execution_count": 76,
     "metadata": {},
     "output_type": "execute_result"
    }
   ],
   "source": [
    "math.exp(45)"
   ]
  },
  {
   "cell_type": "code",
   "execution_count": 77,
   "id": "0970b3d2-9b38-4aaf-84f4-5b168f41af19",
   "metadata": {},
   "outputs": [
    {
     "data": {
      "text/plain": [
       "0.9129452507276277"
      ]
     },
     "execution_count": 77,
     "metadata": {},
     "output_type": "execute_result"
    }
   ],
   "source": [
    "math.sin(20)"
   ]
  },
  {
   "cell_type": "code",
   "execution_count": 78,
   "id": "0d0e3bba-1c4c-4d5a-a980-ef1f7fb80978",
   "metadata": {},
   "outputs": [
    {
     "data": {
      "text/plain": [
       "120"
      ]
     },
     "execution_count": 78,
     "metadata": {},
     "output_type": "execute_result"
    }
   ],
   "source": [
    "math.factorial(5)"
   ]
  },
  {
   "cell_type": "code",
   "execution_count": 79,
   "id": "f1a1af74-618d-468e-b627-26fc3f8fe2cd",
   "metadata": {},
   "outputs": [
    {
     "data": {
      "text/plain": [
       "3.141592653589793"
      ]
     },
     "execution_count": 79,
     "metadata": {},
     "output_type": "execute_result"
    }
   ],
   "source": [
    "math.pi"
   ]
  },
  {
   "cell_type": "code",
   "execution_count": 80,
   "id": "f1c0bac8-0c78-48d3-b997-1f9ed7964daf",
   "metadata": {},
   "outputs": [],
   "source": [
    "import math as m"
   ]
  },
  {
   "cell_type": "code",
   "execution_count": 81,
   "id": "328b4c7f-afea-440c-b4c1-f9c96d88e6bd",
   "metadata": {},
   "outputs": [
    {
     "data": {
      "text/plain": [
       "4.795831523312719"
      ]
     },
     "execution_count": 81,
     "metadata": {},
     "output_type": "execute_result"
    }
   ],
   "source": [
    "m.sqrt(23)"
   ]
  },
  {
   "cell_type": "code",
   "execution_count": 82,
   "id": "cdaf7849-f803-4541-9d57-f00a2d06393b",
   "metadata": {},
   "outputs": [
    {
     "data": {
      "text/plain": [
       "3.295836866004329"
      ]
     },
     "execution_count": 82,
     "metadata": {},
     "output_type": "execute_result"
    }
   ],
   "source": [
    "m.log(27)"
   ]
  },
  {
   "cell_type": "code",
   "execution_count": 83,
   "id": "39daf69b-4030-4909-953a-b2824951d113",
   "metadata": {},
   "outputs": [
    {
     "data": {
      "text/plain": [
       "2.718281828459045"
      ]
     },
     "execution_count": 83,
     "metadata": {},
     "output_type": "execute_result"
    }
   ],
   "source": [
    "m.e"
   ]
  },
  {
   "cell_type": "code",
   "execution_count": 85,
   "id": "ded7514a-fbff-48e2-8981-cbffb56e0dfd",
   "metadata": {},
   "outputs": [
    {
     "data": {
      "text/plain": [
       "3.4934271057485095e+19"
      ]
     },
     "execution_count": 85,
     "metadata": {},
     "output_type": "execute_result"
    }
   ],
   "source": [
    "m.exp(45)"
   ]
  },
  {
   "cell_type": "code",
   "execution_count": 86,
   "id": "97cfbbcb-e8e2-4fb6-b177-6a0377a242d1",
   "metadata": {},
   "outputs": [
    {
     "data": {
      "text/plain": [
       "2.718281828459045"
      ]
     },
     "execution_count": 86,
     "metadata": {},
     "output_type": "execute_result"
    }
   ],
   "source": [
    "math.e"
   ]
  },
  {
   "cell_type": "code",
   "execution_count": 87,
   "id": "83d7a92a-776c-4fb4-a6e3-bec22393e236",
   "metadata": {},
   "outputs": [
    {
     "data": {
      "text/plain": [
       "3.141592653589793"
      ]
     },
     "execution_count": 87,
     "metadata": {},
     "output_type": "execute_result"
    }
   ],
   "source": [
    "m.pi"
   ]
  },
  {
   "cell_type": "code",
   "execution_count": 88,
   "id": "e637d125-fa1e-4310-82d3-1d1d0253c288",
   "metadata": {},
   "outputs": [
    {
     "data": {
      "text/plain": [
       "1.0791812460476249"
      ]
     },
     "execution_count": 88,
     "metadata": {},
     "output_type": "execute_result"
    }
   ],
   "source": [
    "m.log10(12)"
   ]
  },
  {
   "cell_type": "code",
   "execution_count": 89,
   "id": "c1dfece1-c6b9-4198-8020-e9f5fc7b55be",
   "metadata": {},
   "outputs": [],
   "source": [
    "from math import sqrt, pi"
   ]
  },
  {
   "cell_type": "code",
   "execution_count": 90,
   "id": "09632cae-8fcc-498d-927d-1d3459d21a64",
   "metadata": {},
   "outputs": [
    {
     "data": {
      "text/plain": [
       "3.4641016151377544"
      ]
     },
     "execution_count": 90,
     "metadata": {},
     "output_type": "execute_result"
    }
   ],
   "source": [
    "sqrt(12)"
   ]
  },
  {
   "cell_type": "code",
   "execution_count": 91,
   "id": "0e4626fe-a95c-4216-b9ef-77214f059dad",
   "metadata": {},
   "outputs": [
    {
     "data": {
      "text/plain": [
       "3.141592653589793"
      ]
     },
     "execution_count": 91,
     "metadata": {},
     "output_type": "execute_result"
    }
   ],
   "source": [
    "pi"
   ]
  },
  {
   "cell_type": "code",
   "execution_count": 93,
   "id": "3e6f9df9-ed04-4400-af86-db7e9699a396",
   "metadata": {},
   "outputs": [
    {
     "data": {
      "text/plain": [
       "2.718281828459045"
      ]
     },
     "execution_count": 93,
     "metadata": {},
     "output_type": "execute_result"
    }
   ],
   "source": [
    "m.e"
   ]
  },
  {
   "cell_type": "code",
   "execution_count": 94,
   "id": "47c38ba9-70cc-42a7-ae94-6add8a731a48",
   "metadata": {},
   "outputs": [
    {
     "data": {
      "text/plain": [
       "3.4934271057485095e+19"
      ]
     },
     "execution_count": 94,
     "metadata": {},
     "output_type": "execute_result"
    }
   ],
   "source": [
    "m.exp(45)"
   ]
  },
  {
   "cell_type": "code",
   "execution_count": null,
   "id": "dfa92be8-878f-4bf8-8f88-7028a2438a15",
   "metadata": {},
   "outputs": [],
   "source": []
  }
 ],
 "metadata": {
  "kernelspec": {
   "display_name": "Python 3 (ipykernel)",
   "language": "python",
   "name": "python3"
  },
  "language_info": {
   "codemirror_mode": {
    "name": "ipython",
    "version": 3
   },
   "file_extension": ".py",
   "mimetype": "text/x-python",
   "name": "python",
   "nbconvert_exporter": "python",
   "pygments_lexer": "ipython3",
   "version": "3.11.7"
  }
 },
 "nbformat": 4,
 "nbformat_minor": 5
}
