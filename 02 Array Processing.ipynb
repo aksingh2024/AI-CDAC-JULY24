{
 "cells": [
  {
   "cell_type": "code",
   "execution_count": 1,
   "id": "e9dcfec9-1689-4e1a-9d04-6d1d641bd600",
   "metadata": {},
   "outputs": [],
   "source": [
    "import numpy as np"
   ]
  },
  {
   "cell_type": "markdown",
   "id": "bf5b6ed0-75c3-4bd5-a68e-7761e29ffb86",
   "metadata": {},
   "source": [
    "###### create the array"
   ]
  },
  {
   "cell_type": "code",
   "execution_count": 2,
   "id": "e3c387d0-a052-4e9b-939b-124072f12867",
   "metadata": {},
   "outputs": [],
   "source": [
    "x = np.array([56,12,33,48,71,11,28])"
   ]
  },
  {
   "cell_type": "code",
   "execution_count": 3,
   "id": "f2cbcfb5-948b-4bf3-ad42-80350dfd24a7",
   "metadata": {},
   "outputs": [
    {
     "name": "stdout",
     "output_type": "stream",
     "text": [
      "[56 12 33 48 71 11 28]\n"
     ]
    }
   ],
   "source": [
    "print(x)"
   ]
  },
  {
   "cell_type": "code",
   "execution_count": 4,
   "id": "c9347d5f-7c57-41ef-b0d9-175ad46b5921",
   "metadata": {},
   "outputs": [
    {
     "data": {
      "text/plain": [
       "numpy.ndarray"
      ]
     },
     "execution_count": 4,
     "metadata": {},
     "output_type": "execute_result"
    }
   ],
   "source": [
    "type(x)"
   ]
  },
  {
   "cell_type": "code",
   "execution_count": 5,
   "id": "c21ff974-cefe-4292-a939-47ef2fbe778e",
   "metadata": {},
   "outputs": [
    {
     "data": {
      "text/plain": [
       "1"
      ]
     },
     "execution_count": 5,
     "metadata": {},
     "output_type": "execute_result"
    }
   ],
   "source": [
    "x.ndim"
   ]
  },
  {
   "cell_type": "code",
   "execution_count": 6,
   "id": "d6af3a73-1ab7-4f84-a981-a5c2acc50a3a",
   "metadata": {},
   "outputs": [
    {
     "data": {
      "text/plain": [
       "array([56, 12, 33, 48, 71, 11, 28])"
      ]
     },
     "execution_count": 6,
     "metadata": {},
     "output_type": "execute_result"
    }
   ],
   "source": [
    "x"
   ]
  },
  {
   "cell_type": "code",
   "execution_count": 8,
   "id": "e9bd01c3-bea5-4d75-8924-eae37dbebfde",
   "metadata": {},
   "outputs": [
    {
     "data": {
      "text/plain": [
       "dtype('int32')"
      ]
     },
     "execution_count": 8,
     "metadata": {},
     "output_type": "execute_result"
    }
   ],
   "source": [
    "x.dtype"
   ]
  },
  {
   "cell_type": "code",
   "execution_count": 9,
   "id": "2ed6c6c6-ca2f-41c5-be9c-5cbbfe08937e",
   "metadata": {},
   "outputs": [],
   "source": [
    "a = 3784783874783787847837874837586836873878635863"
   ]
  },
  {
   "cell_type": "code",
   "execution_count": 10,
   "id": "6e1f6e66-1a52-4c8c-8e1b-3a63c808eb94",
   "metadata": {},
   "outputs": [
    {
     "data": {
      "text/plain": [
       "3784783874783787847837874837586836873878635863"
      ]
     },
     "execution_count": 10,
     "metadata": {},
     "output_type": "execute_result"
    }
   ],
   "source": [
    "a"
   ]
  },
  {
   "cell_type": "code",
   "execution_count": 11,
   "id": "ed98a0f1-ecc8-40ff-a52a-22edfa8e3d1d",
   "metadata": {},
   "outputs": [],
   "source": [
    "a=458**234"
   ]
  },
  {
   "cell_type": "code",
   "execution_count": 12,
   "id": "70cbba12-9807-411c-b532-126aa4ca0143",
   "metadata": {},
   "outputs": [
    {
     "data": {
      "text/plain": [
       "43905795767991864094969008433853843727765190672755424260323651596770908692463752063349544254446208579317901745636582787109593466824101355870144112225510376448295784994526579552543018884305543044493309296858682300669941538488425682799969171583395923990520786806290244859200327120798115376585778512958867490512130433791363025204928943749007327241909748104181755555514716123701093390972916167581670320194990851096421039547741011361977637389952485047878711869438405433275738041175467479259435617835450594113776974466595004076207385764811051401646402183602801610928800855856199921561691027370889997365249680218466935987350011904"
      ]
     },
     "execution_count": 12,
     "metadata": {},
     "output_type": "execute_result"
    }
   ],
   "source": [
    "a"
   ]
  },
  {
   "cell_type": "code",
   "execution_count": 15,
   "id": "96dec711-4baa-4b44-b4ff-4b5546b31588",
   "metadata": {},
   "outputs": [],
   "source": [
    "x = np.array([56,12,33,48,71,11,28], dtype=np.int8)"
   ]
  },
  {
   "cell_type": "code",
   "execution_count": 16,
   "id": "9be53b3a-5698-4e47-b1e8-549cbf8dcb4d",
   "metadata": {},
   "outputs": [
    {
     "data": {
      "text/plain": [
       "array([56, 12, 33, 48, 71, 11, 28], dtype=int8)"
      ]
     },
     "execution_count": 16,
     "metadata": {},
     "output_type": "execute_result"
    }
   ],
   "source": [
    "x"
   ]
  },
  {
   "cell_type": "code",
   "execution_count": 17,
   "id": "7770be9f-68a2-4ba6-a6da-e94a8b0e5c31",
   "metadata": {},
   "outputs": [
    {
     "name": "stderr",
     "output_type": "stream",
     "text": [
      "C:\\Users\\rajesh\\AppData\\Local\\Temp\\ipykernel_16940\\3874969223.py:1: DeprecationWarning: NumPy will stop allowing conversion of out-of-bound Python integers to integer arrays.  The conversion of 200 to int8 will fail in the future.\n",
      "For the old behavior, usually:\n",
      "    np.array(value).astype(dtype)\n",
      "will give the desired result (the cast overflows).\n",
      "  x[0] = 200\n"
     ]
    }
   ],
   "source": [
    "x[0] = 200"
   ]
  },
  {
   "cell_type": "code",
   "execution_count": 18,
   "id": "47f2cc96-8b98-4c41-a6bf-f2dd3d1a977b",
   "metadata": {},
   "outputs": [],
   "source": [
    "x[0] = 100"
   ]
  },
  {
   "cell_type": "code",
   "execution_count": 19,
   "id": "6b2c91be-8c2c-4333-bc22-7538872b5d52",
   "metadata": {},
   "outputs": [
    {
     "data": {
      "text/plain": [
       "array([100,  12,  33,  48,  71,  11,  28], dtype=int8)"
      ]
     },
     "execution_count": 19,
     "metadata": {},
     "output_type": "execute_result"
    }
   ],
   "source": [
    "x"
   ]
  },
  {
   "cell_type": "code",
   "execution_count": 20,
   "id": "754a3882-8480-413c-aae0-0cbbf96449da",
   "metadata": {},
   "outputs": [],
   "source": [
    "x = np.array([56,12,33,48,71,11,28], dtype=np.uint8)"
   ]
  },
  {
   "cell_type": "code",
   "execution_count": 21,
   "id": "77510bac-5687-4bdf-97cf-99e5460be136",
   "metadata": {},
   "outputs": [
    {
     "data": {
      "text/plain": [
       "array([56, 12, 33, 48, 71, 11, 28], dtype=uint8)"
      ]
     },
     "execution_count": 21,
     "metadata": {},
     "output_type": "execute_result"
    }
   ],
   "source": [
    "x"
   ]
  },
  {
   "cell_type": "code",
   "execution_count": 22,
   "id": "4a9495b3-f4a1-4e09-9cc6-aca16a19f9a1",
   "metadata": {},
   "outputs": [
    {
     "name": "stderr",
     "output_type": "stream",
     "text": [
      "C:\\Users\\rajesh\\AppData\\Local\\Temp\\ipykernel_16940\\1192193881.py:1: DeprecationWarning: NumPy will stop allowing conversion of out-of-bound Python integers to integer arrays.  The conversion of -45 to uint8 will fail in the future.\n",
      "For the old behavior, usually:\n",
      "    np.array(value).astype(dtype)\n",
      "will give the desired result (the cast overflows).\n",
      "  x[0] = -45\n"
     ]
    }
   ],
   "source": [
    "x[0] = -45"
   ]
  },
  {
   "cell_type": "code",
   "execution_count": 23,
   "id": "cbe528d6-1501-4dad-b94b-c39fcb4d648a",
   "metadata": {},
   "outputs": [],
   "source": [
    "x[0] = 145"
   ]
  },
  {
   "cell_type": "code",
   "execution_count": 24,
   "id": "0ea8b4f4-df10-4238-8a1b-6511b5f8cc1c",
   "metadata": {},
   "outputs": [
    {
     "data": {
      "text/plain": [
       "array([145,  12,  33,  48,  71,  11,  28], dtype=uint8)"
      ]
     },
     "execution_count": 24,
     "metadata": {},
     "output_type": "execute_result"
    }
   ],
   "source": [
    "x"
   ]
  },
  {
   "cell_type": "code",
   "execution_count": 25,
   "id": "3f3529f0-e097-4bf7-a173-e549ee06c9a5",
   "metadata": {},
   "outputs": [
    {
     "data": {
      "text/plain": [
       "7"
      ]
     },
     "execution_count": 25,
     "metadata": {},
     "output_type": "execute_result"
    }
   ],
   "source": [
    "x.size"
   ]
  },
  {
   "cell_type": "code",
   "execution_count": 26,
   "id": "abcc03f9-75b5-4cf1-bbc5-27b7ba7ac837",
   "metadata": {},
   "outputs": [
    {
     "data": {
      "text/plain": [
       "(7,)"
      ]
     },
     "execution_count": 26,
     "metadata": {},
     "output_type": "execute_result"
    }
   ],
   "source": [
    "x.shape"
   ]
  },
  {
   "cell_type": "code",
   "execution_count": 27,
   "id": "37efc567-f5b0-4833-97f3-608f8215104a",
   "metadata": {},
   "outputs": [
    {
     "data": {
      "text/plain": [
       "11"
      ]
     },
     "execution_count": 27,
     "metadata": {},
     "output_type": "execute_result"
    }
   ],
   "source": [
    "x.min()"
   ]
  },
  {
   "cell_type": "code",
   "execution_count": 28,
   "id": "3d69d6ab-d32e-4181-b68b-c83a6f13813a",
   "metadata": {},
   "outputs": [
    {
     "data": {
      "text/plain": [
       "145"
      ]
     },
     "execution_count": 28,
     "metadata": {},
     "output_type": "execute_result"
    }
   ],
   "source": [
    "x.max()"
   ]
  },
  {
   "cell_type": "code",
   "execution_count": 29,
   "id": "7739c29b-63a4-4d34-a28c-3d13a0e13c1e",
   "metadata": {},
   "outputs": [
    {
     "data": {
      "text/plain": [
       "49.714285714285715"
      ]
     },
     "execution_count": 29,
     "metadata": {},
     "output_type": "execute_result"
    }
   ],
   "source": [
    "x.mean()"
   ]
  },
  {
   "cell_type": "code",
   "execution_count": 31,
   "id": "d8107990-16db-4375-a194-d01520f6b842",
   "metadata": {},
   "outputs": [
    {
     "data": {
      "text/plain": [
       "array([ 11,  12,  28,  33,  48,  71, 145], dtype=uint8)"
      ]
     },
     "execution_count": 31,
     "metadata": {},
     "output_type": "execute_result"
    }
   ],
   "source": [
    "x.sort()\n",
    "x"
   ]
  },
  {
   "cell_type": "code",
   "execution_count": 32,
   "id": "de3806d5-d421-4c28-8e10-9cb6cd9fd48b",
   "metadata": {},
   "outputs": [
    {
     "data": {
      "text/plain": [
       "43.43702925159686"
      ]
     },
     "execution_count": 32,
     "metadata": {},
     "output_type": "execute_result"
    }
   ],
   "source": [
    "x.std()"
   ]
  },
  {
   "cell_type": "code",
   "execution_count": 33,
   "id": "fccd2644-bddd-4986-a075-560d32f93179",
   "metadata": {},
   "outputs": [
    {
     "data": {
      "text/plain": [
       "348"
      ]
     },
     "execution_count": 33,
     "metadata": {},
     "output_type": "execute_result"
    }
   ],
   "source": [
    "x.sum()"
   ]
  },
  {
   "cell_type": "code",
   "execution_count": 34,
   "id": "5323afe1-cc98-4ae3-8819-77102893a556",
   "metadata": {},
   "outputs": [],
   "source": [
    "y = np.array([67, 89, 45.34, 69, 11, 35])"
   ]
  },
  {
   "cell_type": "code",
   "execution_count": 36,
   "id": "9a75735f-1282-4e10-b9d5-375755782803",
   "metadata": {},
   "outputs": [
    {
     "data": {
      "text/plain": [
       "numpy.ndarray"
      ]
     },
     "execution_count": 36,
     "metadata": {},
     "output_type": "execute_result"
    }
   ],
   "source": [
    "type(y)"
   ]
  },
  {
   "cell_type": "code",
   "execution_count": 37,
   "id": "153edaaf-aaa5-4324-8d2f-d9cd9a674f7c",
   "metadata": {},
   "outputs": [
    {
     "data": {
      "text/plain": [
       "dtype('float64')"
      ]
     },
     "execution_count": 37,
     "metadata": {},
     "output_type": "execute_result"
    }
   ],
   "source": [
    "y.dtype"
   ]
  },
  {
   "cell_type": "code",
   "execution_count": 38,
   "id": "8a333af5-6dc1-4686-9883-f1826be8bd6b",
   "metadata": {},
   "outputs": [
    {
     "data": {
      "text/plain": [
       "array([67.  , 89.  , 45.34, 69.  , 11.  , 35.  ])"
      ]
     },
     "execution_count": 38,
     "metadata": {},
     "output_type": "execute_result"
    }
   ],
   "source": [
    "y"
   ]
  },
  {
   "cell_type": "code",
   "execution_count": 39,
   "id": "4587aa39-417a-4f6f-9ddd-ec307bb007c1",
   "metadata": {},
   "outputs": [
    {
     "data": {
      "text/plain": [
       "89.0"
      ]
     },
     "execution_count": 39,
     "metadata": {},
     "output_type": "execute_result"
    }
   ],
   "source": [
    "y[1]"
   ]
  },
  {
   "cell_type": "code",
   "execution_count": 40,
   "id": "c0d50559-9246-413e-8206-35c9dca3c4f6",
   "metadata": {},
   "outputs": [],
   "source": [
    "z = np.array([67, 89, 45.34, 69, 11, True])"
   ]
  },
  {
   "cell_type": "code",
   "execution_count": 41,
   "id": "de577e2f-eb66-45fb-bd46-e1cea5bec93c",
   "metadata": {},
   "outputs": [
    {
     "data": {
      "text/plain": [
       "array([67.  , 89.  , 45.34, 69.  , 11.  ,  1.  ])"
      ]
     },
     "execution_count": 41,
     "metadata": {},
     "output_type": "execute_result"
    }
   ],
   "source": [
    "z"
   ]
  },
  {
   "cell_type": "code",
   "execution_count": 42,
   "id": "73a45e9c-d23d-43d6-a150-9f676b05f7c9",
   "metadata": {},
   "outputs": [],
   "source": [
    "z = np.zeros(10)"
   ]
  },
  {
   "cell_type": "code",
   "execution_count": 43,
   "id": "b2d9a35b-ea13-45e9-a8c8-28f3a6303e8f",
   "metadata": {},
   "outputs": [
    {
     "data": {
      "text/plain": [
       "array([0., 0., 0., 0., 0., 0., 0., 0., 0., 0.])"
      ]
     },
     "execution_count": 43,
     "metadata": {},
     "output_type": "execute_result"
    }
   ],
   "source": [
    "z"
   ]
  },
  {
   "cell_type": "code",
   "execution_count": 44,
   "id": "5a3bde1e-a771-4717-949f-f55dba4d753b",
   "metadata": {},
   "outputs": [
    {
     "data": {
      "text/plain": [
       "array([0, 0, 0, 0, 0, 0, 0, 0, 0, 0], dtype=int16)"
      ]
     },
     "execution_count": 44,
     "metadata": {},
     "output_type": "execute_result"
    }
   ],
   "source": [
    "z = np.zeros(10, dtype=np.int16)\n",
    "z"
   ]
  },
  {
   "cell_type": "code",
   "execution_count": 46,
   "id": "c9c39652-db86-4351-8126-ee19d94dd2a8",
   "metadata": {},
   "outputs": [
    {
     "data": {
      "text/plain": [
       "array([1, 1, 1, 1, 1, 1, 1, 1, 1, 1], dtype=int16)"
      ]
     },
     "execution_count": 46,
     "metadata": {},
     "output_type": "execute_result"
    }
   ],
   "source": [
    "o = np.ones(10, dtype=np.int16)\n",
    "o"
   ]
  },
  {
   "cell_type": "code",
   "execution_count": 47,
   "id": "8ade1caa-150a-4758-b428-329c6bd05406",
   "metadata": {},
   "outputs": [
    {
     "data": {
      "text/plain": [
       "array([0, 1, 2, 3, 4, 5, 6, 7, 8, 9])"
      ]
     },
     "execution_count": 47,
     "metadata": {},
     "output_type": "execute_result"
    }
   ],
   "source": [
    "np.arange(10)"
   ]
  },
  {
   "cell_type": "code",
   "execution_count": 48,
   "id": "ed8b8ec1-1781-45ee-8ed9-f5701fccbfb6",
   "metadata": {},
   "outputs": [
    {
     "data": {
      "text/plain": [
       "array([4, 5, 6, 7, 8, 9])"
      ]
     },
     "execution_count": 48,
     "metadata": {},
     "output_type": "execute_result"
    }
   ],
   "source": [
    "np.arange(4,10)"
   ]
  },
  {
   "cell_type": "code",
   "execution_count": 49,
   "id": "22f8b938-c595-4af7-9234-7f07c3617cfa",
   "metadata": {},
   "outputs": [
    {
     "data": {
      "text/plain": [
       "array([ 2,  5,  8, 11, 14, 17])"
      ]
     },
     "execution_count": 49,
     "metadata": {},
     "output_type": "execute_result"
    }
   ],
   "source": [
    "np.arange(2,20,3)"
   ]
  },
  {
   "cell_type": "code",
   "execution_count": 50,
   "id": "1f2cd56e-495e-4a9b-894b-e592ea26d114",
   "metadata": {},
   "outputs": [
    {
     "data": {
      "text/plain": [
       "array([20, 17, 14, 11,  8,  5,  2])"
      ]
     },
     "execution_count": 50,
     "metadata": {},
     "output_type": "execute_result"
    }
   ],
   "source": [
    "np.arange(20,1,-3)"
   ]
  },
  {
   "cell_type": "code",
   "execution_count": 51,
   "id": "77b9a683-4f29-4d75-ae20-ba124b3f9972",
   "metadata": {},
   "outputs": [
    {
     "data": {
      "text/plain": [
       "array([0.  , 0.33, 0.66, 0.99, 1.32, 1.65, 1.98, 2.31, 2.64, 2.97, 3.3 ,\n",
       "       3.63, 3.96, 4.29, 4.62, 4.95, 5.28, 5.61, 5.94, 6.27, 6.6 , 6.93,\n",
       "       7.26, 7.59, 7.92, 8.25, 8.58, 8.91, 9.24, 9.57, 9.9 ])"
      ]
     },
     "execution_count": 51,
     "metadata": {},
     "output_type": "execute_result"
    }
   ],
   "source": [
    "np.arange(0, 10, 0.33)"
   ]
  },
  {
   "cell_type": "code",
   "execution_count": 52,
   "id": "5f7953c0-1ce4-427f-923d-7ee50e285877",
   "metadata": {},
   "outputs": [
    {
     "data": {
      "text/plain": [
       "array([ 1. ,  3.5,  6. ,  8.5, 11. ])"
      ]
     },
     "execution_count": 52,
     "metadata": {},
     "output_type": "execute_result"
    }
   ],
   "source": [
    "np.linspace(1,11,5)"
   ]
  },
  {
   "cell_type": "code",
   "execution_count": 53,
   "id": "1a963c46-b290-4a94-8e6e-ee178959ff7d",
   "metadata": {},
   "outputs": [
    {
     "data": {
      "text/plain": [
       "array([ 1.        ,  1.20408163,  1.40816327,  1.6122449 ,  1.81632653,\n",
       "        2.02040816,  2.2244898 ,  2.42857143,  2.63265306,  2.83673469,\n",
       "        3.04081633,  3.24489796,  3.44897959,  3.65306122,  3.85714286,\n",
       "        4.06122449,  4.26530612,  4.46938776,  4.67346939,  4.87755102,\n",
       "        5.08163265,  5.28571429,  5.48979592,  5.69387755,  5.89795918,\n",
       "        6.10204082,  6.30612245,  6.51020408,  6.71428571,  6.91836735,\n",
       "        7.12244898,  7.32653061,  7.53061224,  7.73469388,  7.93877551,\n",
       "        8.14285714,  8.34693878,  8.55102041,  8.75510204,  8.95918367,\n",
       "        9.16326531,  9.36734694,  9.57142857,  9.7755102 ,  9.97959184,\n",
       "       10.18367347, 10.3877551 , 10.59183673, 10.79591837, 11.        ])"
      ]
     },
     "execution_count": 53,
     "metadata": {},
     "output_type": "execute_result"
    }
   ],
   "source": [
    "np.linspace(1,11)"
   ]
  },
  {
   "cell_type": "markdown",
   "id": "d7cab697-23bf-428d-8de8-4b112756f7f8",
   "metadata": {},
   "source": [
    "##### array operations"
   ]
  },
  {
   "cell_type": "code",
   "execution_count": 55,
   "id": "8f773ed4-a8e6-414f-a90c-7afb8d58053b",
   "metadata": {},
   "outputs": [],
   "source": [
    "num1 = np.array([56,12,33,14,68,99])\n",
    "num2 = np.array([28,28,19,39,38,74])"
   ]
  },
  {
   "cell_type": "code",
   "execution_count": 56,
   "id": "93c11df9-26bf-42b1-93c5-3d0e32b06568",
   "metadata": {},
   "outputs": [
    {
     "data": {
      "text/plain": [
       "array([ 66,  22,  43,  24,  78, 109])"
      ]
     },
     "execution_count": 56,
     "metadata": {},
     "output_type": "execute_result"
    }
   ],
   "source": [
    "num1 + 10"
   ]
  },
  {
   "cell_type": "code",
   "execution_count": 57,
   "id": "87910783-fbc8-4ecd-ba59-506de3e18ee8",
   "metadata": {},
   "outputs": [
    {
     "data": {
      "text/plain": [
       "array([ 5.6,  5.6,  3.8,  7.8,  7.6, 14.8])"
      ]
     },
     "execution_count": 57,
     "metadata": {},
     "output_type": "execute_result"
    }
   ],
   "source": [
    "num2 / 5"
   ]
  },
  {
   "cell_type": "code",
   "execution_count": 58,
   "id": "65a30c16-f4d5-4d57-9869-c6644b80ff85",
   "metadata": {},
   "outputs": [
    {
     "data": {
      "text/plain": [
       "array([224,  48, 132,  56, 272, 396])"
      ]
     },
     "execution_count": 58,
     "metadata": {},
     "output_type": "execute_result"
    }
   ],
   "source": [
    "num1 * 4"
   ]
  },
  {
   "cell_type": "code",
   "execution_count": 59,
   "id": "fa96bd04-51bc-470b-9d3f-b11ae3ae7044",
   "metadata": {},
   "outputs": [
    {
     "data": {
      "text/plain": [
       "[56, 12, 33, 14, 68, 99, 56, 12, 33, 14, 68, 99, 56, 12, 33, 14, 68, 99]"
      ]
     },
     "execution_count": 59,
     "metadata": {},
     "output_type": "execute_result"
    }
   ],
   "source": [
    "[56,12,33,14,68,99] * 3"
   ]
  },
  {
   "cell_type": "code",
   "execution_count": 60,
   "id": "9a4114be-2130-4b33-ae4e-6c3c423cf870",
   "metadata": {},
   "outputs": [
    {
     "data": {
      "text/plain": [
       "array([ 84,  40,  52,  53, 106, 173])"
      ]
     },
     "execution_count": 60,
     "metadata": {},
     "output_type": "execute_result"
    }
   ],
   "source": [
    "num1 + num2"
   ]
  },
  {
   "cell_type": "code",
   "execution_count": 61,
   "id": "d68e51c9-0c9e-4207-9019-dcb03790805f",
   "metadata": {},
   "outputs": [
    {
     "data": {
      "text/plain": [
       "array([ 28, -16,  14, -25,  30,  25])"
      ]
     },
     "execution_count": 61,
     "metadata": {},
     "output_type": "execute_result"
    }
   ],
   "source": [
    "num1 - num2"
   ]
  },
  {
   "cell_type": "markdown",
   "id": "cebb6e08-1a90-4457-8bd3-9735fcd892b9",
   "metadata": {},
   "source": [
    "##### matrix"
   ]
  },
  {
   "cell_type": "code",
   "execution_count": 62,
   "id": "fc7fb6e4-03b2-4f6a-be95-401f49bbc057",
   "metadata": {},
   "outputs": [],
   "source": [
    "M = np.array([[4,6,7],[1,2,3],[8,0,2],[9,3,5]])"
   ]
  },
  {
   "cell_type": "code",
   "execution_count": 63,
   "id": "2f511a60-68ab-4d2b-b1b0-c9d7e38eb9d5",
   "metadata": {},
   "outputs": [
    {
     "data": {
      "text/plain": [
       "array([[4, 6, 7],\n",
       "       [1, 2, 3],\n",
       "       [8, 0, 2],\n",
       "       [9, 3, 5]])"
      ]
     },
     "execution_count": 63,
     "metadata": {},
     "output_type": "execute_result"
    }
   ],
   "source": [
    "M"
   ]
  },
  {
   "cell_type": "code",
   "execution_count": 65,
   "id": "7e9cf1e1-d41c-4561-9003-85cfc75af5e6",
   "metadata": {},
   "outputs": [
    {
     "data": {
      "text/plain": [
       "(4, 3)"
      ]
     },
     "execution_count": 65,
     "metadata": {},
     "output_type": "execute_result"
    }
   ],
   "source": [
    "M.shape"
   ]
  },
  {
   "cell_type": "code",
   "execution_count": 66,
   "id": "26e2a807-a917-4c37-ba87-3b0c79ee8712",
   "metadata": {},
   "outputs": [
    {
     "data": {
      "text/plain": [
       "dtype('int32')"
      ]
     },
     "execution_count": 66,
     "metadata": {},
     "output_type": "execute_result"
    }
   ],
   "source": [
    "M.dtype"
   ]
  },
  {
   "cell_type": "code",
   "execution_count": 67,
   "id": "151b1105-b4db-47b4-a7fc-f5da04de0cee",
   "metadata": {},
   "outputs": [
    {
     "data": {
      "text/plain": [
       "12"
      ]
     },
     "execution_count": 67,
     "metadata": {},
     "output_type": "execute_result"
    }
   ],
   "source": [
    "M.size"
   ]
  },
  {
   "cell_type": "code",
   "execution_count": 68,
   "id": "6391f746-40e2-4783-a143-84a732d45fd2",
   "metadata": {},
   "outputs": [
    {
     "data": {
      "text/plain": [
       "2"
      ]
     },
     "execution_count": 68,
     "metadata": {},
     "output_type": "execute_result"
    }
   ],
   "source": [
    "M.ndim"
   ]
  },
  {
   "cell_type": "code",
   "execution_count": 69,
   "id": "cf58d579-1674-4e84-8102-59e1d2869bd6",
   "metadata": {},
   "outputs": [
    {
     "data": {
      "text/plain": [
       "0"
      ]
     },
     "execution_count": 69,
     "metadata": {},
     "output_type": "execute_result"
    }
   ],
   "source": [
    "M[2][1]"
   ]
  },
  {
   "cell_type": "code",
   "execution_count": 70,
   "id": "b8502e92-2edd-45c4-824c-310c1943a7b0",
   "metadata": {},
   "outputs": [
    {
     "data": {
      "text/plain": [
       "0"
      ]
     },
     "execution_count": 70,
     "metadata": {},
     "output_type": "execute_result"
    }
   ],
   "source": [
    "M[2,1]"
   ]
  },
  {
   "cell_type": "code",
   "execution_count": 73,
   "id": "8486b645-5e81-457d-b550-23a7bdc71ba9",
   "metadata": {},
   "outputs": [
    {
     "data": {
      "text/plain": [
       "array([[1, 2],\n",
       "       [8, 0]])"
      ]
     },
     "execution_count": 73,
     "metadata": {},
     "output_type": "execute_result"
    }
   ],
   "source": [
    "M[1:3,0:2]"
   ]
  },
  {
   "cell_type": "code",
   "execution_count": 74,
   "id": "5c449dcf-6cb5-494e-aff7-564821db62ea",
   "metadata": {},
   "outputs": [
    {
     "data": {
      "text/plain": [
       "array([[4, 6, 7, 1],\n",
       "       [2, 3, 8, 0],\n",
       "       [2, 9, 3, 5]])"
      ]
     },
     "execution_count": 74,
     "metadata": {},
     "output_type": "execute_result"
    }
   ],
   "source": [
    "M1 = M.reshape(3,4)\n",
    "M1"
   ]
  },
  {
   "cell_type": "code",
   "execution_count": 76,
   "id": "ad79ab70-9747-4667-922f-82e58a4c81d5",
   "metadata": {},
   "outputs": [
    {
     "data": {
      "text/plain": [
       "array([[4, 6],\n",
       "       [7, 1],\n",
       "       [2, 3],\n",
       "       [8, 0],\n",
       "       [2, 9],\n",
       "       [3, 5]])"
      ]
     },
     "execution_count": 76,
     "metadata": {},
     "output_type": "execute_result"
    }
   ],
   "source": [
    "M2 = M.reshape(6,2)\n",
    "M2"
   ]
  },
  {
   "cell_type": "code",
   "execution_count": 78,
   "id": "4538b44e-d399-45c6-8727-75bcf3bbb346",
   "metadata": {},
   "outputs": [
    {
     "data": {
      "text/plain": [
       "array([[4, 6, 7],\n",
       "       [7, 8, 3],\n",
       "       [1, 1, 2],\n",
       "       [9, 3, 5]])"
      ]
     },
     "execution_count": 78,
     "metadata": {},
     "output_type": "execute_result"
    }
   ],
   "source": [
    "M[1:3,0:2] = np.array([[7,8],[1,1]])\n",
    "M"
   ]
  },
  {
   "cell_type": "code",
   "execution_count": 79,
   "id": "9a714fe8-3132-410b-8fc3-98702b63aa55",
   "metadata": {},
   "outputs": [
    {
     "data": {
      "text/plain": [
       "array([[4, 6, 7, 7, 8, 3],\n",
       "       [1, 1, 2, 9, 3, 5]])"
      ]
     },
     "execution_count": 79,
     "metadata": {},
     "output_type": "execute_result"
    }
   ],
   "source": [
    "M.reshape(2,-1)"
   ]
  },
  {
   "cell_type": "code",
   "execution_count": 82,
   "id": "c5f70caf-d2fb-42fb-8857-78658534c340",
   "metadata": {},
   "outputs": [
    {
     "data": {
      "text/plain": [
       "array([[4, 6, 7, 7],\n",
       "       [8, 3, 1, 1],\n",
       "       [2, 9, 3, 5]])"
      ]
     },
     "execution_count": 82,
     "metadata": {},
     "output_type": "execute_result"
    }
   ],
   "source": [
    "M.reshape(-1,4)"
   ]
  },
  {
   "cell_type": "code",
   "execution_count": 81,
   "id": "19e38bd6-83c8-43a9-b937-91c86770fd81",
   "metadata": {},
   "outputs": [
    {
     "data": {
      "text/plain": [
       "array([[4, 6, 7],\n",
       "       [7, 8, 3],\n",
       "       [1, 1, 2],\n",
       "       [9, 3, 5]])"
      ]
     },
     "execution_count": 81,
     "metadata": {},
     "output_type": "execute_result"
    }
   ],
   "source": [
    "M.reshape(4,-1)"
   ]
  },
  {
   "cell_type": "code",
   "execution_count": 83,
   "id": "1dd5470b-bbcc-4a34-a79d-b72b06337724",
   "metadata": {},
   "outputs": [
    {
     "data": {
      "text/plain": [
       "array([4, 6, 7, 7, 8, 3, 1, 1, 2, 9, 3, 5])"
      ]
     },
     "execution_count": 83,
     "metadata": {},
     "output_type": "execute_result"
    }
   ],
   "source": [
    "M.reshape(-1)"
   ]
  },
  {
   "cell_type": "code",
   "execution_count": 84,
   "id": "9d9a6b85-e54a-4fd3-8819-6e59222deebd",
   "metadata": {},
   "outputs": [
    {
     "data": {
      "text/plain": [
       "array([4, 6, 7, 7, 8, 3, 1, 1, 2, 9, 3, 5])"
      ]
     },
     "execution_count": 84,
     "metadata": {},
     "output_type": "execute_result"
    }
   ],
   "source": [
    "M.flatten()"
   ]
  },
  {
   "cell_type": "code",
   "execution_count": 85,
   "id": "32d91e1e-5e09-4ed4-86e9-4058eff87db7",
   "metadata": {},
   "outputs": [
    {
     "data": {
      "text/plain": [
       "array([[4, 7, 1, 9],\n",
       "       [6, 8, 1, 3],\n",
       "       [7, 3, 2, 5]])"
      ]
     },
     "execution_count": 85,
     "metadata": {},
     "output_type": "execute_result"
    }
   ],
   "source": [
    "M.T"
   ]
  },
  {
   "cell_type": "code",
   "execution_count": 86,
   "id": "c068af4c-c8c8-497a-8d37-f6e471dd35c2",
   "metadata": {},
   "outputs": [
    {
     "data": {
      "text/plain": [
       "1"
      ]
     },
     "execution_count": 86,
     "metadata": {},
     "output_type": "execute_result"
    }
   ],
   "source": [
    "M.min()"
   ]
  },
  {
   "cell_type": "code",
   "execution_count": 87,
   "id": "046d0f34-51b4-43c3-90e4-f3e9cc93af0c",
   "metadata": {},
   "outputs": [
    {
     "name": "stdout",
     "output_type": "stream",
     "text": [
      "Help on built-in function min:\n",
      "\n",
      "min(...) method of numpy.ndarray instance\n",
      "    a.min(axis=None, out=None, keepdims=False, initial=<no value>, where=True)\n",
      "    \n",
      "    Return the minimum along a given axis.\n",
      "    \n",
      "    Refer to `numpy.amin` for full documentation.\n",
      "    \n",
      "    See Also\n",
      "    --------\n",
      "    numpy.amin : equivalent function\n",
      "\n"
     ]
    }
   ],
   "source": [
    "help(M.min)"
   ]
  },
  {
   "cell_type": "code",
   "execution_count": 88,
   "id": "7c2e9dd9-4d4a-4518-a3c7-d8a45617250a",
   "metadata": {},
   "outputs": [
    {
     "data": {
      "text/plain": [
       "array([4, 3, 1, 3])"
      ]
     },
     "execution_count": 88,
     "metadata": {},
     "output_type": "execute_result"
    }
   ],
   "source": [
    "M.min(axis=1)"
   ]
  },
  {
   "cell_type": "code",
   "execution_count": 89,
   "id": "8c93e3b8-90aa-476b-b1ec-fc0a64b8bca5",
   "metadata": {},
   "outputs": [
    {
     "data": {
      "text/plain": [
       "array([1, 1, 2])"
      ]
     },
     "execution_count": 89,
     "metadata": {},
     "output_type": "execute_result"
    }
   ],
   "source": [
    "M.min(axis=0)"
   ]
  },
  {
   "cell_type": "code",
   "execution_count": 90,
   "id": "170e706b-7a3e-4540-98a1-6829dabb0e39",
   "metadata": {},
   "outputs": [
    {
     "data": {
      "text/plain": [
       "array([17, 18,  4, 17])"
      ]
     },
     "execution_count": 90,
     "metadata": {},
     "output_type": "execute_result"
    }
   ],
   "source": [
    "M.sum(axis=1)"
   ]
  },
  {
   "cell_type": "code",
   "execution_count": 91,
   "id": "f268fb98-c553-4e02-81f0-7c4957717d1c",
   "metadata": {},
   "outputs": [
    {
     "data": {
      "text/plain": [
       "array([21, 18, 17])"
      ]
     },
     "execution_count": 91,
     "metadata": {},
     "output_type": "execute_result"
    }
   ],
   "source": [
    "M.sum(axis=0)"
   ]
  },
  {
   "cell_type": "code",
   "execution_count": 92,
   "id": "06f90ec0-40ac-4fde-baed-98871fac96fb",
   "metadata": {},
   "outputs": [
    {
     "data": {
      "text/plain": [
       "56"
      ]
     },
     "execution_count": 92,
     "metadata": {},
     "output_type": "execute_result"
    }
   ],
   "source": [
    "M.sum()"
   ]
  },
  {
   "cell_type": "code",
   "execution_count": 93,
   "id": "83b37693-6932-442b-9853-4801d053eb45",
   "metadata": {},
   "outputs": [
    {
     "data": {
      "text/plain": [
       "array([67.  , 89.  , 45.34, 69.  , 11.  , 35.  ])"
      ]
     },
     "execution_count": 93,
     "metadata": {},
     "output_type": "execute_result"
    }
   ],
   "source": [
    "y"
   ]
  },
  {
   "cell_type": "code",
   "execution_count": 94,
   "id": "48f655ec-30ae-448c-83c8-8ee7a7dd05e8",
   "metadata": {},
   "outputs": [
    {
     "data": {
      "text/plain": [
       "array([[67.  , 89.  ],\n",
       "       [45.34, 69.  ],\n",
       "       [11.  , 35.  ]])"
      ]
     },
     "execution_count": 94,
     "metadata": {},
     "output_type": "execute_result"
    }
   ],
   "source": [
    "y.reshape(3,2)"
   ]
  },
  {
   "cell_type": "code",
   "execution_count": 96,
   "id": "3c42171f-cdd7-432e-bbc2-4733bab5437f",
   "metadata": {},
   "outputs": [
    {
     "data": {
      "text/plain": [
       "9"
      ]
     },
     "execution_count": 96,
     "metadata": {},
     "output_type": "execute_result"
    }
   ],
   "source": [
    "M.argmax()"
   ]
  },
  {
   "cell_type": "code",
   "execution_count": 97,
   "id": "b4b29c86-6401-49dd-b279-0e13ad83e654",
   "metadata": {},
   "outputs": [
    {
     "data": {
      "text/plain": [
       "array([[4, 6, 7],\n",
       "       [7, 8, 3],\n",
       "       [1, 1, 2],\n",
       "       [9, 3, 5]])"
      ]
     },
     "execution_count": 97,
     "metadata": {},
     "output_type": "execute_result"
    }
   ],
   "source": [
    "M"
   ]
  },
  {
   "cell_type": "code",
   "execution_count": 98,
   "id": "fe5b5469-02ef-4557-b727-cfb7fa4fcaa8",
   "metadata": {},
   "outputs": [
    {
     "data": {
      "text/plain": [
       "array([67.  , 89.  , 45.34, 69.  , 11.  , 35.  ])"
      ]
     },
     "execution_count": 98,
     "metadata": {},
     "output_type": "execute_result"
    }
   ],
   "source": [
    "y"
   ]
  },
  {
   "cell_type": "code",
   "execution_count": 99,
   "id": "fa2ef0c2-f875-48f0-b6f1-d4d55d92ec16",
   "metadata": {},
   "outputs": [
    {
     "data": {
      "text/plain": [
       "1"
      ]
     },
     "execution_count": 99,
     "metadata": {},
     "output_type": "execute_result"
    }
   ],
   "source": [
    "y.argmax()"
   ]
  },
  {
   "cell_type": "code",
   "execution_count": 100,
   "id": "356ce1ed-84a6-479d-a1a3-116082670349",
   "metadata": {},
   "outputs": [
    {
     "data": {
      "text/plain": [
       "6"
      ]
     },
     "execution_count": 100,
     "metadata": {},
     "output_type": "execute_result"
    }
   ],
   "source": [
    "M.argmin()"
   ]
  },
  {
   "cell_type": "code",
   "execution_count": 101,
   "id": "2e496b95-bef9-4c05-ad16-a47d8de7e7cb",
   "metadata": {},
   "outputs": [
    {
     "data": {
      "text/plain": [
       "dtype('int32')"
      ]
     },
     "execution_count": 101,
     "metadata": {},
     "output_type": "execute_result"
    }
   ],
   "source": [
    "M.dtype"
   ]
  },
  {
   "cell_type": "code",
   "execution_count": 102,
   "id": "980728f3-8e56-4cd3-b1e7-a47ecce50be0",
   "metadata": {},
   "outputs": [],
   "source": [
    "M = M.astype(np.int16)"
   ]
  },
  {
   "cell_type": "code",
   "execution_count": 103,
   "id": "e08d21bc-5b90-4825-b4e0-383ae16f4d3a",
   "metadata": {},
   "outputs": [
    {
     "data": {
      "text/plain": [
       "array([[4, 6, 7],\n",
       "       [7, 8, 3],\n",
       "       [1, 1, 2],\n",
       "       [9, 3, 5]], dtype=int16)"
      ]
     },
     "execution_count": 103,
     "metadata": {},
     "output_type": "execute_result"
    }
   ],
   "source": [
    "M"
   ]
  },
  {
   "cell_type": "code",
   "execution_count": 104,
   "id": "1c47d78f-2bfb-4435-bf1e-5c47cec0544a",
   "metadata": {},
   "outputs": [
    {
     "data": {
      "text/plain": [
       "array([[4., 6., 7.],\n",
       "       [7., 8., 3.],\n",
       "       [1., 1., 2.],\n",
       "       [9., 3., 5.]], dtype=float16)"
      ]
     },
     "execution_count": 104,
     "metadata": {},
     "output_type": "execute_result"
    }
   ],
   "source": [
    "M = M.astype(np.float16)\n",
    "M"
   ]
  },
  {
   "cell_type": "code",
   "execution_count": 105,
   "id": "54ac995f-8d60-4cdc-ba48-4f71e59a6036",
   "metadata": {},
   "outputs": [
    {
     "data": {
      "text/plain": [
       "array([ 11,  12,  28,  33,  48,  71, 145], dtype=uint8)"
      ]
     },
     "execution_count": 105,
     "metadata": {},
     "output_type": "execute_result"
    }
   ],
   "source": [
    "x"
   ]
  },
  {
   "cell_type": "code",
   "execution_count": 106,
   "id": "b743ca9e-fe85-455d-a216-986102e4e9ca",
   "metadata": {},
   "outputs": [],
   "source": [
    "y = x"
   ]
  },
  {
   "cell_type": "code",
   "execution_count": 107,
   "id": "fdd98323-5a7b-4077-8198-2a3f56dca454",
   "metadata": {},
   "outputs": [
    {
     "data": {
      "text/plain": [
       "array([ 11,  12,  28,  33,  48,  71, 145], dtype=uint8)"
      ]
     },
     "execution_count": 107,
     "metadata": {},
     "output_type": "execute_result"
    }
   ],
   "source": [
    "y"
   ]
  },
  {
   "cell_type": "code",
   "execution_count": 108,
   "id": "ad333b7b-37f3-434c-b949-4a04bcd46583",
   "metadata": {},
   "outputs": [],
   "source": [
    "y[0] = 20"
   ]
  },
  {
   "cell_type": "code",
   "execution_count": 109,
   "id": "22886e19-bc3f-4dd0-9114-0aae1e5f4146",
   "metadata": {},
   "outputs": [
    {
     "data": {
      "text/plain": [
       "array([ 20,  12,  28,  33,  48,  71, 145], dtype=uint8)"
      ]
     },
     "execution_count": 109,
     "metadata": {},
     "output_type": "execute_result"
    }
   ],
   "source": [
    "x"
   ]
  },
  {
   "cell_type": "code",
   "execution_count": 110,
   "id": "519c1d53-7af1-4fd5-a104-a5bbed308eb8",
   "metadata": {},
   "outputs": [
    {
     "data": {
      "text/plain": [
       "2489064359376"
      ]
     },
     "execution_count": 110,
     "metadata": {},
     "output_type": "execute_result"
    }
   ],
   "source": [
    "id(y)"
   ]
  },
  {
   "cell_type": "code",
   "execution_count": 111,
   "id": "7cb87ef7-e97a-4a30-b99e-1ec88d8bdad8",
   "metadata": {},
   "outputs": [
    {
     "data": {
      "text/plain": [
       "2489064359376"
      ]
     },
     "execution_count": 111,
     "metadata": {},
     "output_type": "execute_result"
    }
   ],
   "source": [
    "id(x)"
   ]
  },
  {
   "cell_type": "code",
   "execution_count": 112,
   "id": "09392668-9d26-4d1d-9eed-a29086fad9e0",
   "metadata": {},
   "outputs": [
    {
     "data": {
      "text/plain": [
       "array([ 20,  12,  28,  33,  48,  71, 145], dtype=uint8)"
      ]
     },
     "execution_count": 112,
     "metadata": {},
     "output_type": "execute_result"
    }
   ],
   "source": [
    "y = x.copy()\n",
    "y"
   ]
  },
  {
   "cell_type": "code",
   "execution_count": 113,
   "id": "7f7866a4-5b38-4845-bab7-6a8e805a4fe0",
   "metadata": {},
   "outputs": [
    {
     "data": {
      "text/plain": [
       "2489064359376"
      ]
     },
     "execution_count": 113,
     "metadata": {},
     "output_type": "execute_result"
    }
   ],
   "source": [
    "id(x)"
   ]
  },
  {
   "cell_type": "code",
   "execution_count": 114,
   "id": "e64b5fd2-a18f-41ab-8aba-049e5c626e15",
   "metadata": {},
   "outputs": [
    {
     "data": {
      "text/plain": [
       "2489045780880"
      ]
     },
     "execution_count": 114,
     "metadata": {},
     "output_type": "execute_result"
    }
   ],
   "source": [
    "id(y)"
   ]
  },
  {
   "cell_type": "code",
   "execution_count": null,
   "id": "723a2de8-c265-4242-9c12-9c88929d9aa7",
   "metadata": {},
   "outputs": [],
   "source": []
  }
 ],
 "metadata": {
  "kernelspec": {
   "display_name": "Python 3 (ipykernel)",
   "language": "python",
   "name": "python3"
  },
  "language_info": {
   "codemirror_mode": {
    "name": "ipython",
    "version": 3
   },
   "file_extension": ".py",
   "mimetype": "text/x-python",
   "name": "python",
   "nbconvert_exporter": "python",
   "pygments_lexer": "ipython3",
   "version": "3.11.7"
  }
 },
 "nbformat": 4,
 "nbformat_minor": 5
}
